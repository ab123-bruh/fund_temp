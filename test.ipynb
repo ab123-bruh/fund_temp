{
 "cells": [
  {
   "cell_type": "code",
   "execution_count": 1,
   "metadata": {},
   "outputs": [],
   "source": [
    "# This is the model in which we write the algorthim to decide how to allocate portfolio weights \n",
    "# This will ultimately output a dataset which all the user needs to do is just use the backtesting functionality\n",
    "# that we end up writing out in a python notebook to get the plots that we need to analyze what we are working on\n",
    "# class PortfolioModel:\n",
    "#     def __init__(self, symbols: dict=Basket().get_portfolio()):\n",
    "#         self.symbols = symbols\n",
    "#         self.add = Ticker().recommend_tickers()\n",
    "    \n",
    "#     def add_tickers(self, tickers: list):\n",
    "#         if tickers == self.add:\n",
    "\n",
    "    \n",
    "#     def get_tickers(self):\n",
    "#         pass"
   ]
  },
  {
   "cell_type": "code",
   "execution_count": 4,
   "metadata": {},
   "outputs": [
    {
     "name": "stderr",
     "output_type": "stream",
     "text": [
      "404 Client Error: Not Found for url: https://query2.finance.yahoo.com/v10/finance/quoteSummary/ECC%20%20%20%20%20%20%20%20%20%20%20?modules=financialData%2CquoteType%2CdefaultKeyStatistics%2CassetProfile%2CsummaryDetail&corsDomain=finance.yahoo.com&formatted=false&symbol=ECC+++++++++++&crumb=IuV1UtA7QtG\n"
     ]
    },
    {
     "data": {
      "text/plain": [
       "['YMM', 'CORT', 'DLO', 'GNTX', 'INCY']"
      ]
     },
     "execution_count": 4,
     "metadata": {},
     "output_type": "execute_result"
    }
   ],
   "source": [
    "import retrieve_tickers as rt\n",
    "import bt\n",
    "\n",
    "symbols = list(rt.Basket().get_portfolio().keys())\n",
    "\n",
    "rt.Ticker().recommend_tickers()\n",
    "\n",
    "# symbols.extend(rt.Ticker().recommend_tickers())\n",
    "\n",
    "# df = bt.get(symbols,start=\"2020-01-01\")\n"
   ]
  },
  {
   "cell_type": "code",
   "execution_count": 42,
   "metadata": {},
   "outputs": [
    {
     "name": "stdout",
     "output_type": "stream",
     "text": [
      "['CORT', 'CDLX']\n"
     ]
    }
   ],
   "source": [
    "import numpy as np\n",
    "import yfinance as yf\n",
    "import pandas as pd\n",
    "\n",
    "# List of tickers to process\n",
    "tickers = [\"CORT\", \"CVX\", \"CDLX\", \"AAPL\"]  # Replace with your list of tickers\n",
    "\n",
    "# Define the metrics and conditions\n",
    "metrics = ['currentPrice', 'volume', 'marketCap']  # Replace with your actual metrics\n",
    "greater = {'currentPrice': 5, 'volume': 200000}\n",
    "less_than = {'marketCap': 15000000000}\n",
    "\n",
    "# Retrieve the data\n",
    "ticker_data = {ticker: dict(filter(lambda item: item[0] in metrics, yf.Ticker(ticker).info.items())) for ticker in tickers}\n",
    "\n",
    "# Initialize arrays to store the metric values\n",
    "metric_values = {metric: [] for metric in metrics}\n",
    "\n",
    "# Populate the arrays with the data\n",
    "for ticker in tickers:\n",
    "    for metric in metrics:\n",
    "        value = ticker_data[ticker].get(metric, np.nan)\n",
    "        metric_values[metric].append(value)\n",
    "\n",
    "# Convert lists to numpy arrays\n",
    "metric_arrays = {metric: np.array(values) for metric, values in metric_values.items()}\n",
    "\n",
    "# Create boolean arrays for the conditions\n",
    "check_3 = np.ones(len(tickers), dtype=bool)\n",
    "check_4 = np.ones(len(tickers), dtype=bool)\n",
    "\n",
    "for metric, x in greater.items():\n",
    "    check_3 &= metric_arrays[metric] > x\n",
    "\n",
    "for metric, x in less_than.items():\n",
    "    check_4 &= metric_arrays[metric] < x\n",
    "\n",
    "# Combine the conditions\n",
    "final_check = check_3 & check_4\n",
    "\n",
    "# Get the final list of tickers that meet the conditions\n",
    "new_tickers = np.array(tickers)[final_check].tolist()\n",
    "\n",
    "print(new_tickers)"
   ]
  },
  {
   "cell_type": "code",
   "execution_count": null,
   "metadata": {},
   "outputs": [],
   "source": [
    "import numpy as np\n",
    "\n"
   ]
  },
  {
   "cell_type": "code",
   "execution_count": 83,
   "metadata": {},
   "outputs": [
    {
     "name": "stderr",
     "output_type": "stream",
     "text": [
      "404 Client Error: Not Found for url: https://query2.finance.yahoo.com/v10/finance/quoteSummary/BRK/B?modules=financialData%2CquoteType%2CdefaultKeyStatistics%2CassetProfile%2CsummaryDetail&corsDomain=finance.yahoo.com&formatted=false&symbol=BRK%2FB&crumb=u8kZW62La4e\n"
     ]
    },
    {
     "ename": "YFinanceException",
     "evalue": "Failed to parse json response from Yahoo Finance: {'code': 'Not Found', 'description': 'HTTP 404 Not Found'}",
     "output_type": "error",
     "traceback": [
      "\u001b[1;31m---------------------------------------------------------------------------\u001b[0m",
      "\u001b[1;31mYFinanceException\u001b[0m                         Traceback (most recent call last)",
      "Cell \u001b[1;32mIn[83], line 3\u001b[0m\n\u001b[0;32m      1\u001b[0m \u001b[38;5;28;01mimport\u001b[39;00m \u001b[38;5;21;01myfinance\u001b[39;00m \u001b[38;5;28;01mas\u001b[39;00m \u001b[38;5;21;01myf\u001b[39;00m\n\u001b[1;32m----> 3\u001b[0m yf\u001b[38;5;241m.\u001b[39mTicker(\u001b[38;5;124m\"\u001b[39m\u001b[38;5;124mBRK/B\u001b[39m\u001b[38;5;124m\"\u001b[39m)\u001b[38;5;241m.\u001b[39minfo\n",
      "File \u001b[1;32mc:\\Users\\abhan\\anaconda3\\Lib\\site-packages\\yfinance\\ticker.py:155\u001b[0m, in \u001b[0;36minfo\u001b[1;34m(self)\u001b[0m\n\u001b[0;32m    151\u001b[0m \u001b[38;5;129m@property\u001b[39m\n\u001b[0;32m    152\u001b[0m \u001b[38;5;28;01mdef\u001b[39;00m \u001b[38;5;21minfo\u001b[39m(\u001b[38;5;28mself\u001b[39m) \u001b[38;5;241m-\u001b[39m\u001b[38;5;241m>\u001b[39m \u001b[38;5;28mdict\u001b[39m:\n\u001b[0;32m    153\u001b[0m     \u001b[38;5;28;01mreturn\u001b[39;00m \u001b[38;5;28mself\u001b[39m\u001b[38;5;241m.\u001b[39mget_info()\n\u001b[1;32m--> 155\u001b[0m \u001b[38;5;129m@property\u001b[39m\n\u001b[0;32m    156\u001b[0m \u001b[38;5;28;01mdef\u001b[39;00m \u001b[38;5;21mfast_info\u001b[39m(\u001b[38;5;28mself\u001b[39m):\n\u001b[0;32m    157\u001b[0m     \u001b[38;5;28;01mreturn\u001b[39;00m \u001b[38;5;28mself\u001b[39m\u001b[38;5;241m.\u001b[39mget_fast_info()\n\u001b[0;32m    159\u001b[0m \u001b[38;5;129m@property\u001b[39m\n\u001b[0;32m    160\u001b[0m \u001b[38;5;28;01mdef\u001b[39;00m \u001b[38;5;21mcalendar\u001b[39m(\u001b[38;5;28mself\u001b[39m) \u001b[38;5;241m-\u001b[39m\u001b[38;5;241m>\u001b[39m \u001b[38;5;28mdict\u001b[39m:\n",
      "File \u001b[1;32mc:\\Users\\abhan\\anaconda3\\Lib\\site-packages\\yfinance\\base.py:222\u001b[0m, in \u001b[0;36mget_info\u001b[1;34m(self, proxy)\u001b[0m\n\u001b[0;32m    221\u001b[0m \u001b[38;5;28;01mdef\u001b[39;00m \u001b[38;5;21mget_info\u001b[39m(\u001b[38;5;28mself\u001b[39m, proxy\u001b[38;5;241m=\u001b[39m\u001b[38;5;28;01mNone\u001b[39;00m) \u001b[38;5;241m-\u001b[39m\u001b[38;5;241m>\u001b[39m \u001b[38;5;28mdict\u001b[39m:\n\u001b[1;32m--> 222\u001b[0m     \u001b[38;5;28mself\u001b[39m\u001b[38;5;241m.\u001b[39m_quote\u001b[38;5;241m.\u001b[39mproxy \u001b[38;5;241m=\u001b[39m proxy \u001b[38;5;129;01mor\u001b[39;00m \u001b[38;5;28mself\u001b[39m\u001b[38;5;241m.\u001b[39mproxy\n\u001b[0;32m    223\u001b[0m     data \u001b[38;5;241m=\u001b[39m \u001b[38;5;28mself\u001b[39m\u001b[38;5;241m.\u001b[39m_quote\u001b[38;5;241m.\u001b[39minfo\n\u001b[0;32m    224\u001b[0m     \u001b[38;5;28;01mreturn\u001b[39;00m data\n",
      "File \u001b[1;32mc:\\Users\\abhan\\anaconda3\\Lib\\site-packages\\yfinance\\scrapers\\quote.py:561\u001b[0m, in \u001b[0;36mQuote.info\u001b[1;34m(self)\u001b[0m\n\u001b[0;32m    559\u001b[0m \u001b[38;5;28;01mif\u001b[39;00m \u001b[38;5;28mself\u001b[39m\u001b[38;5;241m.\u001b[39m_info \u001b[38;5;129;01mis\u001b[39;00m \u001b[38;5;28;01mNone\u001b[39;00m:\n\u001b[0;32m    560\u001b[0m     \u001b[38;5;28mself\u001b[39m\u001b[38;5;241m.\u001b[39m_fetch_info(\u001b[38;5;28mself\u001b[39m\u001b[38;5;241m.\u001b[39mproxy)\n\u001b[1;32m--> 561\u001b[0m     \u001b[38;5;28mself\u001b[39m\u001b[38;5;241m.\u001b[39m_fetch_complementary(\u001b[38;5;28mself\u001b[39m\u001b[38;5;241m.\u001b[39mproxy)\n\u001b[0;32m    563\u001b[0m \u001b[38;5;28;01mreturn\u001b[39;00m \u001b[38;5;28mself\u001b[39m\u001b[38;5;241m.\u001b[39m_info\n",
      "File \u001b[1;32mc:\\Users\\abhan\\anaconda3\\Lib\\site-packages\\yfinance\\scrapers\\quote.py:724\u001b[0m, in \u001b[0;36mQuote._fetch_complementary\u001b[1;34m(self, proxy)\u001b[0m\n\u001b[0;32m    722\u001b[0m json_result \u001b[38;5;241m=\u001b[39m json_data\u001b[38;5;241m.\u001b[39mget(\u001b[38;5;124m\"\u001b[39m\u001b[38;5;124mtimeseries\u001b[39m\u001b[38;5;124m\"\u001b[39m) \u001b[38;5;129;01mor\u001b[39;00m json_data\u001b[38;5;241m.\u001b[39mget(\u001b[38;5;124m\"\u001b[39m\u001b[38;5;124mfinance\u001b[39m\u001b[38;5;124m\"\u001b[39m)\n\u001b[0;32m    723\u001b[0m \u001b[38;5;28;01mif\u001b[39;00m json_result[\u001b[38;5;124m\"\u001b[39m\u001b[38;5;124merror\u001b[39m\u001b[38;5;124m\"\u001b[39m] \u001b[38;5;129;01mis\u001b[39;00m \u001b[38;5;129;01mnot\u001b[39;00m \u001b[38;5;28;01mNone\u001b[39;00m:\n\u001b[1;32m--> 724\u001b[0m     \u001b[38;5;28;01mraise\u001b[39;00m YFException(\u001b[38;5;124m\"\u001b[39m\u001b[38;5;124mFailed to parse json response from Yahoo Finance: \u001b[39m\u001b[38;5;124m\"\u001b[39m \u001b[38;5;241m+\u001b[39m \u001b[38;5;28mstr\u001b[39m(json_result[\u001b[38;5;124m\"\u001b[39m\u001b[38;5;124merror\u001b[39m\u001b[38;5;124m\"\u001b[39m]))\n\u001b[0;32m    725\u001b[0m \u001b[38;5;28;01mfor\u001b[39;00m k \u001b[38;5;129;01min\u001b[39;00m keys:\n\u001b[0;32m    726\u001b[0m     keydict \u001b[38;5;241m=\u001b[39m json_result[\u001b[38;5;124m\"\u001b[39m\u001b[38;5;124mresult\u001b[39m\u001b[38;5;124m\"\u001b[39m][\u001b[38;5;241m0\u001b[39m]\n",
      "\u001b[1;31mYFinanceException\u001b[0m: Failed to parse json response from Yahoo Finance: {'code': 'Not Found', 'description': 'HTTP 404 Not Found'}"
     ]
    }
   ],
   "source": [
    "import yfinance as yf\n",
    "\n",
    "yf.Ticker(\"BRK/B\").info"
   ]
  },
  {
   "cell_type": "code",
   "execution_count": null,
   "metadata": {},
   "outputs": [],
   "source": [
    "import numpy as np\n",
    "import pandas as pd\n",
    "import matplotlib.pyplot as plt\n",
    "from mpl_toolkits.mplot3d import Axes3D\n",
    "\n",
    "def plot_torus(ticker,big,rolling_mean,rolling_std,buy_signal,sell_signal,size):\n",
    "    # Define parametric equations for a torus\n",
    "    def torus_parametric(u, v, R, r):\n",
    "        x = (R + r * np.cos(v)) * np.cos(u)\n",
    "        y = (R + r * np.cos(v)) * np.sin(u)\n",
    "        z = r * np.sin(v)\n",
    "        return x, y, z\n",
    "\n",
    "    # Parameters for the torus\n",
    "    R = (rolling_mean[ticker] + (2 * rolling_std[ticker])).mean()  # Major radius\n",
    "    r = rolling_mean[ticker].mean()  # Minor radius\n",
    "\n",
    "    # Generate torus coordinates\n",
    "    u = np.linspace(0,big,size)\n",
    "    v = np.linspace(0,big,size)\n",
    "    U, V = np.meshgrid(u, v)\n",
    "    X, Y, Z = torus_parametric(U, V, R, r)\n",
    "\n",
    "    # Plot the torus\n",
    "    fig = plt.figure(figsize=(20, 20))\n",
    "    ax = fig.add_subplot(111, projection='3d')\n",
    "    ax.plot_surface(X, Y, Z, alpha=0.2, cmap='viridis')\n",
    "\n",
    "    # Plot the price data\n",
    "    ax.scatter(X[buy_signal[ticker]], Y[buy_signal[ticker]], Z[buy_signal[ticker]], color='g', label='Buy Signal')\n",
    "    ax.scatter(X[sell_signal[ticker]], Y[sell_signal[ticker]], Z[sell_signal[ticker]], color='r', label='Sell Signal')\n",
    "    ax.tick_params(labelsize=10)\n",
    "    \n",
    "    plt.show()\n",
    "\n",
    "big = 2*np.pi\n",
    "\n",
    "df_filter = df - df.iloc[0]\n",
    "\n",
    "norm_price = (df_filter - df_filter.min()) / (df_filter.max() - df_filter.min()) * big\n",
    "\n",
    "rolling_mean = norm_price.rolling(window=50).mean()\n",
    "rolling_std = norm_price.rolling(window=50).std()\n",
    "\n",
    "buy_signal = norm_price < rolling_mean - (2 * rolling_std)\n",
    "sell_signal = norm_price > rolling_mean + (2 * rolling_std)\n",
    "\n",
    "plot_torus(\"cort\",big,rolling_mean,rolling_std,buy_signal,sell_signal,len(df))"
   ]
  },
  {
   "cell_type": "code",
   "execution_count": null,
   "metadata": {},
   "outputs": [],
   "source": [
    "def action_tickers(ticker,buy_indicator,sell_indicator):\n",
    "    tick_buy = pd.DataFrame(buy_indicator[ticker])\n",
    "    tick_buy[\"BuySignal\"] = \"Buy\"\n",
    "    tick_buy = tick_buy.rename(columns={ticker:\"BuyAction\"})\n",
    "\n",
    "    tick_sell = pd.DataFrame(sell_indicator[ticker])\n",
    "    tick_sell[\"SellSignal\"] = \"Sell\"\n",
    "    tick_sell = tick_sell.rename(columns={ticker:\"SellAction\"})\n",
    "\n",
    "    actions = pd.concat([tick_buy,tick_sell],axis=1)\n",
    "                     \n",
    "    actions.loc[(actions[\"BuyAction\"] == False) & (actions[\"SellAction\"] == False), [\"BuySignal\",\"SellSignal\"]] = \"Hold\"\n",
    "\n",
    "    buy = actions.loc[(actions[\"BuySignal\"] == \"Buy\") & (actions[\"BuyAction\"] == True), \"BuySignal\"]\n",
    "    sell = actions.loc[(actions[\"SellSignal\"] == \"Sell\") & (actions[\"SellAction\"] == True), \"SellSignal\"]\n",
    "    hold = actions.loc[(actions[\"BuySignal\"] == \"Hold\") & (actions[\"SellSignal\"] == \"Hold\"), \"BuySignal\"]\n",
    "\n",
    "    actions = pd.concat([buy,sell,hold],axis=0).reset_index()\n",
    "\n",
    "    actions.columns = [\"Date\", ticker + \"Signal\"]\n",
    "\n",
    "    actions = actions.sort_values(by=\"Date\",ascending=True).reset_index(drop=True)\n",
    "\n",
    "    actions = actions.drop([\"Date\"],axis=1)\n",
    "\n",
    "    return actions\n",
    "\n",
    "ticker_action = pd.DataFrame(buy_signal.index)\n",
    "\n",
    "for tick in symbols:\n",
    "    ticker_action[tick.lower() + \"Signal\"] = action_tickers(tick.lower(),buy_signal,sell_signal)\n",
    "\n",
    "date = ticker_action.pop(\"Date\")\n",
    "ticker_action = ticker_action.set_index(date)\n",
    "\n",
    "ticker_action.iloc[51:]"
   ]
  },
  {
   "cell_type": "code",
   "execution_count": null,
   "metadata": {},
   "outputs": [],
   "source": [
    "strat = bt.Strategy('tailAction', [bt.algos.SelectWhere(sell_signal),\n",
    "                                   bt.algos.WeighEqually(),\n",
    "                                   bt.algos.Rebalance()])\n",
    "\n",
    "# now we create the Backtest\n",
    "t = bt.Backtest(strat, df.iloc[51:,:],integer_positions=False, progress_bar=True)\n",
    "\n",
    "# and let's run it!\n",
    "res = bt.run(t)\n",
    "\n",
    "res.plot()"
   ]
  },
  {
   "cell_type": "code",
   "execution_count": null,
   "metadata": {},
   "outputs": [],
   "source": [
    "strat = bt.Strategy('tailAction', [bt.algos.SelectWhere(buy_signal),\n",
    "                                   bt.algos.WeighEqually(),\n",
    "                                   bt.algos.Rebalance()])\n",
    "\n",
    "# now we create the Backtest\n",
    "t = bt.Backtest(strat, df.iloc[51:,:],integer_positions=False, progress_bar=True)\n",
    "\n",
    "# and let's run it!\n",
    "res = bt.run(t)\n",
    "\n",
    "res.plot()"
   ]
  }
 ],
 "metadata": {
  "kernelspec": {
   "display_name": "base",
   "language": "python",
   "name": "python3"
  },
  "language_info": {
   "codemirror_mode": {
    "name": "ipython",
    "version": 3
   },
   "file_extension": ".py",
   "mimetype": "text/x-python",
   "name": "python",
   "nbconvert_exporter": "python",
   "pygments_lexer": "ipython3",
   "version": "3.11.5"
  }
 },
 "nbformat": 4,
 "nbformat_minor": 2
}
