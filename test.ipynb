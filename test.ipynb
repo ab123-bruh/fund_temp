{
 "cells": [
  {
   "cell_type": "code",
   "execution_count": 1,
   "metadata": {},
   "outputs": [
    {
     "name": "stderr",
     "output_type": "stream",
     "text": [
      "[*********************100%%**********************]  1 of 1 completed\n",
      "[*********************100%%**********************]  1 of 1 completed\n",
      "[*********************100%%**********************]  1 of 1 completed\n",
      "[*********************100%%**********************]  1 of 1 completed\n",
      "[*********************100%%**********************]  1 of 1 completed\n",
      "[*********************100%%**********************]  1 of 1 completed\n",
      "[*********************100%%**********************]  1 of 1 completed\n",
      "[*********************100%%**********************]  1 of 1 completed\n",
      "[*********************100%%**********************]  1 of 1 completed\n",
      "[*********************100%%**********************]  1 of 1 completed\n",
      "[*********************100%%**********************]  1 of 1 completed\n",
      "[*********************100%%**********************]  1 of 1 completed\n"
     ]
    }
   ],
   "source": [
    "import os\n",
    "import subprocess\n",
    "import bt\n",
    "import datetime as dt\n",
    "\n",
    "tickers = subprocess.run(args=[\"python\", os.getcwd() + \"\\\\data_cleaning.py\"],text=True,stdout=subprocess.PIPE)\n",
    "\n",
    "results = tickers.stdout.strip('\"\"[]\\n').split(', ')\n",
    "\n",
    "symbols = [element.strip(\"'\\\"\") for element in results]\n",
    "\n",
    "current_date = dt.date.today()\n",
    "start_date = current_date - dt.timedelta(days=365)\n",
    "\n",
    "num_previous_trading_days = sum(1 for day in range((current_date - start_date).days + 1) if (start_date + dt.timedelta(days=day)).weekday() < 5)\n",
    "\n",
    "days = round((1.9*num_previous_trading_days)-1,0)\n",
    "\n",
    "start = (current_date - dt.timedelta(days=days)).strftime(\"%Y-%m-%d\")\n",
    "\n",
    "df = bt.get(symbols,start=start)"
   ]
  },
  {
   "cell_type": "code",
   "execution_count": null,
   "metadata": {},
   "outputs": [],
   "source": [
    "import numpy as np\n",
    "import pandas as pd\n",
    "import yfinance as yf\n",
    "import matplotlib.pyplot as plt\n",
    "from mpl_toolkits.mplot3d import Axes3D\n",
    "\n",
    "# Generate some random price data\n",
    "big = 2*np.pi\n",
    "\n",
    "norm_price = ((df-df.min())/(df.max()-df.min())) * big\n",
    "\n",
    "# Calculate the mean and standard deviation\n",
    "window = 50\n",
    "rolling_mean = norm_price.rolling(window=window).mean()\n",
    "rolling_mean = rolling_mean.loc[rolling_mean.index >= start_date.strftime(\"%Y-%m-%d\")]\n",
    "\n",
    "rolling_std = norm_price.rolling(window=window).std()\n",
    "rolling_std = rolling_std.loc[rolling_std.index >= start_date.strftime(\"%Y-%m-%d\")]\n",
    "\n",
    "df = df.loc[df.index >= start_date.strftime(\"%Y-%m-%d\")]\n",
    "df = df-df.iloc[0,:]\n",
    "\n",
    "# Create signals\n",
    "buy_signal = df < rolling_mean - (2 * rolling_std)\n",
    "sell_signal = df > rolling_mean + (2 * rolling_std)\n",
    "\n",
    "# Define parametric equations for a torus\n",
    "def torus_parametric(u, v, R, r):\n",
    "    x = (R + r * np.cos(v)) * np.cos(u)\n",
    "    y = (R + r * np.cos(v)) * np.sin(u)\n",
    "    z = r * np.sin(v)\n",
    "    return x, y, z\n",
    "\n",
    "# Parameters for the torus\n",
    "R = (rolling_mean[\"cort\"] + (2 * rolling_std[\"cort\"])).mean()  # Major radius\n",
    "r = rolling_mean[\"cort\"].mean()  # Minor radius\n",
    "\n",
    "# Generate torus coordinates\n",
    "u = np.linspace(0,big,len(df))\n",
    "v = np.linspace(0,big,len(df))\n",
    "U, V = np.meshgrid(u, v)\n",
    "X, Y, Z = torus_parametric(U, V, R, r)\n",
    "\n",
    "# Plot the torus\n",
    "fig = plt.figure(figsize=(20, 20))\n",
    "ax = fig.add_subplot(111, projection='3d')\n",
    "ax.plot_surface(X, Y, Z, alpha=0.2, cmap='viridis')\n",
    "\n",
    "# Plot the price data\n",
    "ax.scatter(X[buy_signal[\"cort\"]], Y[buy_signal[\"cort\"]], Z[buy_signal[\"cort\"]], color='g', label='Buy Signal')\n",
    "ax.scatter(X[sell_signal[\"cort\"]], Y[sell_signal[\"cort\"]], Z[sell_signal[\"cort\"]], color='r', label='Sell Signal')\n",
    "\n",
    "plt.show()"
   ]
  },
  {
   "cell_type": "code",
   "execution_count": null,
   "metadata": {},
   "outputs": [],
   "source": [
    "buy_signal[\"BuySignal\"] = \"Buy\"\n",
    "sell_signal[\"SellSignal\"] = \"Sell\"\n",
    "\n",
    "buy_signal = buy_signal.rename(columns={0:\"BuyAction\"})\n",
    "sell_signal = sell_signal.rename(columns={0:\"SellAction\"})\n",
    "\n",
    "actions = pd.concat([buy_signal,sell_signal],axis=1)\n",
    "                     \n",
    "actions.loc[(actions[\"BuyAction\"] == False) & (actions[\"SellAction\"] == False), [\"BuySignal\",\"SellSignal\"]] = \"Hold\"\n",
    "\n",
    "buy = actions.loc[(actions[\"BuySignal\"] == \"Buy\") & (actions[\"BuyAction\"] == True), \"BuySignal\"]\n",
    "sell = actions.loc[(actions[\"SellSignal\"] == \"Sell\") & (actions[\"SellAction\"] == True), \"SellSignal\"]\n",
    "hold = actions.loc[(actions[\"BuySignal\"] == \"Hold\") & (actions[\"SellSignal\"] == \"Hold\"), \"BuySignal\"]\n",
    "\n",
    "actions = pd.concat([buy,sell,hold],axis=0).reset_index()\n",
    "\n",
    "actions.columns = [\"Date\", \"Signal\"]\n",
    "\n",
    "actions = actions.sort_values(by=\"Date\",ascending=True).reset_index(drop=True)\n",
    "\n",
    "actions[\"Date\"] = list(tick.index)\n",
    "\n",
    "actions"
   ]
  },
  {
   "cell_type": "code",
   "execution_count": null,
   "metadata": {},
   "outputs": [],
   "source": [
    "buy_signal[\"BuySignal\"] = \"Buy\"\n",
    "\n",
    "\n",
    "sell_signal[\"SellSignal\"] = \"Sell\"\n",
    "\n",
    "pd.concat([buy_signal,sell_signal],axis=1)"
   ]
  }
 ],
 "metadata": {
  "kernelspec": {
   "display_name": "base",
   "language": "python",
   "name": "python3"
  },
  "language_info": {
   "codemirror_mode": {
    "name": "ipython",
    "version": 3
   },
   "file_extension": ".py",
   "mimetype": "text/x-python",
   "name": "python",
   "nbconvert_exporter": "python",
   "pygments_lexer": "ipython3",
   "version": "3.11.5"
  }
 },
 "nbformat": 4,
 "nbformat_minor": 2
}
